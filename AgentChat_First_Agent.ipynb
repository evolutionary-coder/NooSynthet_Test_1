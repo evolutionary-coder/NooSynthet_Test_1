{
 "cells": [
  {
   "cell_type": "markdown",
   "id": "665aa8f9",
   "metadata": {},
   "source": [
    "***Introduction to AgentChat API with First AssistantAgent***\n",
    "We’ll use the AgentChat API to create a simple AssistantAgent and explore its capabilities."
   ]
  },
  {
   "cell_type": "code",
   "execution_count": 5,
   "id": "fb264c75",
   "metadata": {},
   "outputs": [],
   "source": [
    "from autogen_agentchat.agents import AssistantAgent\n",
    "from autogen_ext.models.openai import OpenAIChatCompletionClient\n",
    "from dotenv import load_dotenv\n",
    "import os\n",
    "\n",
    "load_dotenv()\n",
    "api_key = os.getenv('OPENAI_API_KEY')"
   ]
  },
  {
   "cell_type": "code",
   "execution_count": 6,
   "id": "da5c9384",
   "metadata": {},
   "outputs": [],
   "source": [
    "model_client = OpenAIChatCompletionClient(model = 'gpt-4o',api_key=api_key) "
   ]
  },
  {
   "cell_type": "markdown",
   "id": "0b71fa74",
   "metadata": {},
   "source": [
    "**Creating Our First AssistantAgent**\n",
    "The AssistantAgent is a versatile agent for conversations, powered by AgentChat.    "
   ]
  },
  {
   "cell_type": "code",
   "execution_count": 7,
   "id": "02c361b0",
   "metadata": {},
   "outputs": [],
   "source": [
    "assistant = AssistantAgent(name = \"assistant\",model_client=model_client,description='A Basic first Agent')"
   ]
  },
  {
   "cell_type": "markdown",
   "id": "e2619d0b",
   "metadata": {},
   "source": [
    "**Testing the AssistantAgent**\n",
    "We’ll use the run method to send a task and get a response."
   ]
  },
  {
   "cell_type": "code",
   "execution_count": null,
   "id": "89d6b5f2",
   "metadata": {},
   "outputs": [],
   "source": [
    "result = await assistant.run(task=\"What's the capital of Switzerland and mention which are 2 cities are considered as capitals as well?\")\n",
    "\n",
    "print(result)"
   ]
  },
  {
   "cell_type": "code",
   "execution_count": 13,
   "id": "ee95bc22",
   "metadata": {},
   "outputs": [
    {
     "name": "stdout",
     "output_type": "stream",
     "text": [
      "The capital of Switzerland is Bern. Besides Bern, two other cities are often associated with significant governmental functions: Zürich is the largest city in Switzerland and a major financial hub, while Geneva is home to many international organizations and diplomatic missions. However, neither Zürich nor Geneva is considered a capital. TERMINATE\n"
     ]
    }
   ],
   "source": [
    "print(result.messages[-1].content)"
   ]
  }
 ],
 "metadata": {
  "kernelspec": {
   "display_name": "test1_noosynthet (3.12.1)",
   "language": "python",
   "name": "python3"
  },
  "language_info": {
   "codemirror_mode": {
    "name": "ipython",
    "version": 3
   },
   "file_extension": ".py",
   "mimetype": "text/x-python",
   "name": "python",
   "nbconvert_exporter": "python",
   "pygments_lexer": "ipython3",
   "version": "3.12.1"
  }
 },
 "nbformat": 4,
 "nbformat_minor": 5
}
